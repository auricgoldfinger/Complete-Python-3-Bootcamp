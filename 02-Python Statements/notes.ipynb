{
 "cells": [
  {
   "cell_type": "code",
   "execution_count": 10,
   "metadata": {},
   "outputs": [
    {
     "output_type": "stream",
     "name": "stdout",
     "text": "' 1'\n' 2'\n' 3'\n' 4'\n' 5'\n' 6'\n' 7'\n' 8'\n' 9'\n'10'\n"
    }
   ],
   "source": [
    "l = [1,2,3,4,5,6,7,8,9,10]\n",
    "for i in l:\n",
    "    print (f\"'{i:2.0f}'\")"
   ]
  },
  {
   "cell_type": "code",
   "execution_count": 16,
   "metadata": {},
   "outputs": [
    {
     "output_type": "stream",
     "name": "stdout",
     "text": "-  1 is odd\n-  2 is even\n-  3 is odd\n-  4 is even\n-  5 is odd\n-  6 is even\n-  7 is odd\n-  8 is even\n-  9 is odd\n- 10 is even\n"
    }
   ],
   "source": [
    "for i in l:\n",
    "    if i%2==0:\n",
    "        print(f'- {i:2.0f} is even')\n",
    "    else:\n",
    "        print(f'- {i:2.0f} is odd')"
   ]
  },
  {
   "cell_type": "code",
   "execution_count": 20,
   "metadata": {},
   "outputs": [
    {
     "output_type": "stream",
     "name": "stdout",
     "text": "Sum is 1\nSum is 3\nSum is 6\nSum is 10\nSum is 15\nSum is 21\nSum is 28\nSum is 36\nSum is 45\nSum is 55\n"
    }
   ],
   "source": [
    "listsum = 0\n",
    "for i in l:\n",
    "    listsum += i\n",
    "    print(f\"Sum is {listsum}\")"
   ]
  },
  {
   "cell_type": "code",
   "execution_count": 25,
   "metadata": {},
   "outputs": [
    {
     "output_type": "stream",
     "name": "stdout",
     "text": "(1, 2)\n(3, 4)\n(5, 6)\n1\n2\n3\n4\n5\n6\n"
    }
   ],
   "source": [
    "tuplist = [(1,2),(3,4),(5,6)]\n",
    "for i in tuplist:\n",
    "    print(i)\n",
    "\n",
    "for a,b in tuplist:\n",
    "    print(a)\n",
    "    print(b)"
   ]
  },
  {
   "cell_type": "code",
   "execution_count": 31,
   "metadata": {},
   "outputs": [
    {
     "output_type": "stream",
     "name": "stdout",
     "text": "('k1', 'v1')\n('k2', 'v2')\n('k3', 3)\n"
    }
   ],
   "source": [
    "d = {'k1':'v1','k2':'v2','k3':3}\n",
    "for k in d.items():\n",
    "    print(k)\n",
    "    #print (f\"{v} has key {k}\")"
   ]
  },
  {
   "cell_type": "code",
   "execution_count": 4,
   "metadata": {
    "tags": [
     "outputPrepend",
     "outputPrepend",
     "outputPrepend",
     "outputPrepend",
     "outputPrepend",
     "outputPrepend",
     "outputPrepend",
     "outputPrepend",
     "outputPrepend",
     "outputPrepend",
     "outputPrepend",
     "outputPrepend",
     "outputPrepend",
     "outputPrepend",
     "outputPrepend",
     "outputPrepend",
     "outputPrepend",
     "outputPrepend",
     "outputPrepend",
     "outputPrepend",
     "outputPrepend",
     "outputPrepend",
     "outputPrepend",
     "outputPrepend",
     "outputPrepend",
     "outputPrepend",
     "outputPrepend",
     "outputPrepend",
     "outputPrepend",
     "outputPrepend",
     "outputPrepend",
     "outputPrepend",
     "outputPrepend",
     "outputPrepend",
     "outputPrepend",
     "outputPrepend",
     "outputPrepend",
     "outputPrepend",
     "outputPrepend",
     "outputPrepend",
     "outputPrepend",
     "outputPrepend",
     "outputPrepend",
     "outputPrepend",
     "outputPrepend",
     "outputPrepend",
     "outputPrepend",
     "outputPrepend",
     "outputPrepend",
     "outputPrepend",
     "outputPrepend",
     "outputPrepend",
     "outputPrepend",
     "outputPrepend",
     "outputPrepend",
     "outputPrepend",
     "outputPrepend",
     "outputPrepend",
     "outputPrepend",
     "outputPrepend",
     "outputPrepend",
     "outputPrepend",
     "outputPrepend",
     "outputPrepend",
     "outputPrepend",
     "outputPrepend",
     "outputPrepend",
     "outputPrepend",
     "outputPrepend"
    ]
   },
   "outputs": [
    {
     "output_type": "stream",
     "name": "stdout",
     "text": "0 is still lower than 9\n1 is still lower than 9\n2 is still lower than 9\n3 is still lower than 9\n4 is still lower than 9\n5 is still lower than 9\n6 is still lower than 9\n7 is still lower than 9\n8 is still lower than 9\nwhe're there\n"
    }
   ],
   "source": [
    "i = 0\n",
    "while i < 9:\n",
    "    print (f\"{i} is still lower than 9\")\n",
    "    i+=1\n",
    "else:\n",
    "    print(\"whe're there\")"
   ]
  },
  {
   "cell_type": "code",
   "execution_count": 10,
   "metadata": {},
   "outputs": [
    {
     "output_type": "stream",
     "name": "stdout",
     "text": "s\nm\nm\ny\n"
    }
   ],
   "source": [
    "s = 'sammy'\n",
    "for l in s:\n",
    "    if l == 'a': pass\n",
    "    else: print (l)"
   ]
  },
  {
   "cell_type": "code",
   "execution_count": 3,
   "metadata": {},
   "outputs": [
    {
     "output_type": "stream",
     "name": "stdout",
     "text": "3\n6\n9\n"
    }
   ],
   "source": [
    "for num in range(3, 10,3):\n",
    "    print(num)"
   ]
  },
  {
   "cell_type": "code",
   "execution_count": 4,
   "metadata": {},
   "outputs": [
    {
     "output_type": "stream",
     "name": "stdout",
     "text": "At index 0 the letter is a\nAt index 1 the letter is b\nAt index 2 the letter is c\nAt index 3 the letter is d\nAt index 4 the letter is e\n"
    }
   ],
   "source": [
    "c = 0\n",
    "for letter in 'abcde':\n",
    "    print(f'At index {c} the letter is {letter}')\n",
    "    c+=1"
   ]
  },
  {
   "cell_type": "code",
   "execution_count": 6,
   "metadata": {},
   "outputs": [
    {
     "output_type": "stream",
     "name": "stdout",
     "text": "(0, 'a')\n(1, 'b')\n(2, 'c')\n(3, 'd')\n(4, 'e')\n"
    }
   ],
   "source": [
    "\n",
    "word = 'abcde'\n",
    "\n",
    "for item in enumerate(word):\n",
    "    print(item)\n"
   ]
  },
  {
   "cell_type": "code",
   "execution_count": 12,
   "metadata": {},
   "outputs": [
    {
     "output_type": "stream",
     "name": "stdout",
     "text": "-  1. a\n-  2. b\n-  3. c\n-  4. d\n-  5. e\n"
    }
   ],
   "source": [
    "word = 'abcde'\n",
    "\n",
    "for i,letter in enumerate(word):\n",
    "    print(f\"- {i+1:2}. {letter}\")"
   ]
  },
  {
   "cell_type": "code",
   "execution_count": 16,
   "metadata": {},
   "outputs": [
    {
     "output_type": "stream",
     "name": "stdout",
     "text": "(1, 'a', 1.23)\n(2, 'b', 1.56)\n(3, 'c', 3.45)\n(4, 'd', 7.32)\n"
    }
   ],
   "source": [
    "l1 = [1,2,3,4,5]\n",
    "l2 = ['a','b','c','d','e', 'f']\n",
    "l3 = [1.23,1.56,3.45,7.32]\n",
    "for i in zip(l1,l2,l3):\n",
    "    print (i)"
   ]
  },
  {
   "cell_type": "code",
   "execution_count": 18,
   "metadata": {},
   "outputs": [
    {
     "output_type": "execute_result",
     "data": {
      "text/plain": "True"
     },
     "metadata": {},
     "execution_count": 18
    }
   ],
   "source": [
    "'b' in l2"
   ]
  },
  {
   "cell_type": "code",
   "execution_count": 20,
   "metadata": {},
   "outputs": [
    {
     "output_type": "execute_result",
     "data": {
      "text/plain": "True"
     },
     "metadata": {},
     "execution_count": 20
    }
   ],
   "source": [
    "'hello' in 'yet another hello world example'"
   ]
  },
  {
   "cell_type": "code",
   "execution_count": 22,
   "metadata": {},
   "outputs": [
    {
     "output_type": "execute_result",
     "data": {
      "text/plain": "1.23"
     },
     "metadata": {},
     "execution_count": 22
    }
   ],
   "source": [
    "min(l3)"
   ]
  },
  {
   "cell_type": "code",
   "execution_count": 37,
   "metadata": {},
   "outputs": [
    {
     "output_type": "execute_result",
     "data": {
      "text/plain": "89"
     },
     "metadata": {},
     "execution_count": 37
    }
   ],
   "source": [
    "from random import shuffle, randint\n",
    "shuffle(l3)\n",
    "randint(1,100)"
   ]
  },
  {
   "cell_type": "code",
   "execution_count": 26,
   "metadata": {},
   "outputs": [
    {
     "output_type": "execute_result",
     "data": {
      "text/plain": "[1.56, 7.32, 1.23, 3.45]"
     },
     "metadata": {},
     "execution_count": 26
    }
   ],
   "source": [
    "l3"
   ]
  },
  {
   "cell_type": "code",
   "execution_count": 46,
   "metadata": {},
   "outputs": [],
   "source": [
    "userinput = input('Enter some text')"
   ]
  },
  {
   "cell_type": "code",
   "execution_count": 47,
   "metadata": {},
   "outputs": [
    {
     "output_type": "error",
     "ename": "ValueError",
     "evalue": "could not convert string to float: 'lksjdf'",
     "traceback": [
      "\u001b[0;31m---------------------------------------------------------------------------\u001b[0m",
      "\u001b[0;31mValueError\u001b[0m                                Traceback (most recent call last)",
      "\u001b[0;32m<ipython-input-47-847fc98a20a8>\u001b[0m in \u001b[0;36m<module>\u001b[0;34m\u001b[0m\n\u001b[0;32m----> 1\u001b[0;31m \u001b[0mfloat\u001b[0m\u001b[0;34m(\u001b[0m\u001b[0muserinput\u001b[0m\u001b[0;34m)\u001b[0m\u001b[0;34m\u001b[0m\u001b[0;34m\u001b[0m\u001b[0m\n\u001b[0m",
      "\u001b[0;31mValueError\u001b[0m: could not convert string to float: 'lksjdf'"
     ]
    }
   ],
   "source": [
    "float(userinput)"
   ]
  },
  {
   "cell_type": "code",
   "execution_count": 48,
   "metadata": {},
   "outputs": [],
   "source": [
    "s = 'hello'\n",
    "l = []\n",
    "for letter in s:\n",
    "    l.append(letter)"
   ]
  },
  {
   "cell_type": "code",
   "execution_count": 49,
   "metadata": {},
   "outputs": [
    {
     "output_type": "execute_result",
     "data": {
      "text/plain": "['h', 'e', 'l', 'l', 'o']"
     },
     "metadata": {},
     "execution_count": 49
    }
   ],
   "source": [
    "l"
   ]
  },
  {
   "cell_type": "code",
   "execution_count": 55,
   "metadata": {},
   "outputs": [
    {
     "output_type": "stream",
     "name": "stdout",
     "text": "['h', 'e', 'l', 'l', 'o']\n"
    }
   ],
   "source": [
    "mylist = [letter for letter in s]\n",
    "print(mylist)"
   ]
  },
  {
   "cell_type": "code",
   "execution_count": 57,
   "metadata": {},
   "outputs": [
    {
     "output_type": "stream",
     "name": "stdout",
     "text": "[0, 4, 16, 36, 64, 100]\n"
    }
   ],
   "source": [
    "mylist = [x**2 for x in range(0,11) if x%2 == 0]\n",
    "print (mylist)"
   ]
  },
  {
   "cell_type": "code",
   "execution_count": 59,
   "metadata": {},
   "outputs": [
    {
     "output_type": "stream",
     "name": "stdout",
     "text": "[32.0, 53.6, 73.4, 94.1]\n"
    }
   ],
   "source": [
    "celcius = [0,12,23,34.5]\n",
    "farenheit = [ ( (9/5)*temp + 32) for temp in celcius]\n",
    "print (farenheit)\n",
    "frarenheit = []\n",
    "for temp in celcius :\n",
    "    farenheit.append( (9/5)*temp + 32 )"
   ]
  },
  {
   "cell_type": "code",
   "execution_count": 65,
   "metadata": {},
   "outputs": [
    {
     "output_type": "stream",
     "name": "stdout",
     "text": "[0, 'ODD', 2, 'ODD', 4, 'ODD', 6, 'ODD', 8, 'ODD', 10]\n"
    }
   ],
   "source": [
    "results = [x if x%2 == 0 else 'ODD'  for x in range(0,11)]\n",
    "print(results)"
   ]
  },
  {
   "cell_type": "code",
   "execution_count": 68,
   "metadata": {},
   "outputs": [
    {
     "output_type": "stream",
     "name": "stdout",
     "text": "[20, 200, 2000, 40, 400, 4000, 60, 600, 6000]\n"
    }
   ],
   "source": [
    "nested = []\n",
    "for x in [2, 4, 6]:\n",
    "    for y in [10,100,1000]:\n",
    "        nested.append(x*y)\n",
    "\n",
    "print(nested)"
   ]
  },
  {
   "cell_type": "code",
   "execution_count": 67,
   "metadata": {},
   "outputs": [
    {
     "output_type": "stream",
     "name": "stdout",
     "text": "[0, 2, 4, 6]\n"
    }
   ],
   "source": [
    "nested = [x for x in range(0,7,2)]\n",
    "print(nested)"
   ]
  },
  {
   "cell_type": "code",
   "execution_count": 70,
   "metadata": {},
   "outputs": [
    {
     "output_type": "stream",
     "name": "stdout",
     "text": "[20, 200, 2000, 40, 400, 4000, 60, 600, 6000]\n"
    }
   ],
   "source": [
    "nested = [x*y for x in [2,4,6] for y in [10,100,1000]]\n",
    "print (nested)"
   ]
  },
  {
   "cell_type": "code",
   "execution_count": 73,
   "metadata": {},
   "outputs": [
    {
     "output_type": "stream",
     "name": "stdout",
     "text": "[1, 11, 21, 31, 41, 51, 61, 71, 81, 91, 101, 111, 121, 131, 141, 151, 161, 171, 181, 191]\n"
    }
   ],
   "source": [
    "anarray = [x for x in range(1,200) if x % 10 == 1]\n",
    "anarray = [x for x in range(1,200,10)]\n",
    "print(anarray)"
   ]
  },
  {
   "cell_type": "markdown",
   "metadata": {},
   "source": [
    "# Fibonacci sequence"
   ]
  },
  {
   "cell_type": "code",
   "execution_count": 12,
   "metadata": {},
   "outputs": [
    {
     "output_type": "stream",
     "name": "stdout",
     "text": "·   1:......................1\n·   2:......................1\n·   3:......................2\n·   4:......................3\n·   5:......................5\n·   6:......................8\n·   7:.....................13\n·   8:.....................21\n·   9:.....................34\n·  10:.....................55\n·  11:.....................89\n·  12:....................144\n·  13:....................233\n·  14:....................377\n·  15:....................610\n·  16:....................987\n·  17:...................1597\n·  18:...................2584\n·  19:...................4181\n·  20:...................6765\n·  21:..................10946\n·  22:..................17711\n·  23:..................28657\n·  24:..................46368\n·  25:..................75025\n·  26:.................121393\n·  27:.................196418\n·  28:.................317811\n·  29:.................514229\n·  30:.................832040\n·  31:................1346269\n·  32:................2178309\n·  33:................3524578\n·  34:................5702887\n·  35:................9227465\n·  36:...............14930352\n·  37:...............24157817\n·  38:...............39088169\n·  39:...............63245986\n·  40:..............102334155\n·  41:..............165580141\n·  42:..............267914296\n·  43:..............433494437\n·  44:..............701408733\n·  45:.............1134903170\n·  46:.............1836311903\n·  47:.............2971215073\n·  48:.............4807526976\n·  49:.............7778742049\n·  50:............12586269025\n·  51:............20365011074\n·  52:............32951280099\n·  53:............53316291173\n·  54:............86267571272\n·  55:...........139583862445\n·  56:...........225851433717\n·  57:...........365435296162\n·  58:...........591286729879\n·  59:...........956722026041\n·  60:..........1548008755920\n·  61:..........2504730781961\n·  62:..........4052739537881\n·  63:..........6557470319842\n·  64:.........10610209857723\n·  65:.........17167680177565\n·  66:.........27777890035288\n·  67:.........44945570212853\n·  68:.........72723460248141\n·  69:........117669030460994\n·  70:........190392490709135\n·  71:........308061521170129\n·  72:........498454011879264\n·  73:........806515533049393\n·  74:.......1304969544928657\n·  75:.......2111485077978050\n·  76:.......3416454622906707\n·  77:.......5527939700884757\n·  78:.......8944394323791464\n·  79:......14472334024676221\n·  80:......23416728348467685\n·  81:......37889062373143906\n·  82:......61305790721611591\n·  83:......99194853094755497\n·  84:.....160500643816367088\n·  85:.....259695496911122585\n·  86:.....420196140727489673\n·  87:.....679891637638612258\n·  88:....1100087778366101931\n·  89:....1779979416004714189\n·  90:....2880067194370816120\n·  91:....4660046610375530309\n·  92:....7540113804746346429\n·  93:...12200160415121876738\n·  94:...19740274219868223167\n·  95:...31940434634990099905\n·  96:...51680708854858323072\n·  97:...83621143489848422977\n·  98:..135301852344706746049\n·  99:..218922995834555169026\n· 100:..354224848179261915075\n"
    }
   ],
   "source": [
    "f = [1,1]\n",
    "maxlen = 100 # 100 fibonacci numbers\n",
    "\n",
    "while len(f) < maxlen:\n",
    "    f.append(f[-2]+f[-1])\n",
    "\n",
    "for i,n in enumerate(f):\n",
    "    print(f\"· {(i+1):>3}:.{f[i]:.>22}\")"
   ]
  },
  {
   "cell_type": "code",
   "execution_count": null,
   "metadata": {},
   "outputs": [],
   "source": []
  }
 ],
 "metadata": {
  "language_info": {
   "codemirror_mode": {
    "name": "ipython",
    "version": 3
   },
   "file_extension": ".py",
   "mimetype": "text/x-python",
   "name": "python",
   "nbconvert_exporter": "python",
   "pygments_lexer": "ipython3",
   "version": "3.7.6-final"
  },
  "orig_nbformat": 2,
  "kernelspec": {
   "name": "python3",
   "display_name": "Python 3"
  }
 },
 "nbformat": 4,
 "nbformat_minor": 2
}