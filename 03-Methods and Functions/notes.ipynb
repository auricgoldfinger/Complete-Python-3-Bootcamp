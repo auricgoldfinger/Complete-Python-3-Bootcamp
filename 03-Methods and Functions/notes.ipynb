{
 "cells": [
  {
   "cell_type": "code",
   "execution_count": 1,
   "metadata": {},
   "outputs": [],
   "source": [
    "mylist = [1,2,3]"
   ]
  },
  {
   "cell_type": "code",
   "execution_count": 2,
   "metadata": {},
   "outputs": [],
   "source": [
    "mylist.append(4)"
   ]
  },
  {
   "cell_type": "code",
   "execution_count": 3,
   "metadata": {},
   "outputs": [
    {
     "output_type": "execute_result",
     "data": {
      "text/plain": "4"
     },
     "metadata": {},
     "execution_count": 3
    }
   ],
   "source": [
    "mylist.pop()"
   ]
  },
  {
   "cell_type": "code",
   "execution_count": 4,
   "metadata": {},
   "outputs": [
    {
     "output_type": "stream",
     "name": "stdout",
     "text": "Help on built-in function insert:\n\ninsert(index, object, /) method of builtins.list instance\n    Insert object before index.\n\n"
    }
   ],
   "source": [
    "help(mylist.insert)"
   ]
  },
  {
   "cell_type": "code",
   "execution_count": 8,
   "metadata": {},
   "outputs": [
    {
     "output_type": "stream",
     "name": "stdout",
     "text": "hello\nHelp on function name_function in module __main__:\n\nname_function()\n    DOCSTRING: Yet Another Hello World Example\n    INPUT: none\n    OUTPUT: hello\n\n"
    }
   ],
   "source": [
    "def name_function():\n",
    "    '''\n",
    "    DOCSTRING: Yet Another Hello World Example\n",
    "    INPUT: none\n",
    "    OUTPUT: hello\n",
    "    '''\n",
    "    return \"hello\"\n",
    "\n",
    "print(name_function())\n",
    "help(name_function)"
   ]
  },
  {
   "cell_type": "code",
   "execution_count": 15,
   "metadata": {},
   "outputs": [
    {
     "output_type": "stream",
     "name": "stdout",
     "text": "hello bert\nhello stupid\n"
    }
   ],
   "source": [
    "def say_hello(name = \"stupid\"):\n",
    "    print(f\"hello {name}\")\n",
    "\n",
    "say_hello(\"bert\")\n",
    "say_hello()"
   ]
  },
  {
   "cell_type": "code",
   "execution_count": 17,
   "metadata": {},
   "outputs": [
    {
     "output_type": "stream",
     "name": "stdout",
     "text": "50\n"
    }
   ],
   "source": [
    "def add(n1,n2):\n",
    "    return n1+n2\n",
    "\n",
    "print(add(20,30))"
   ]
  },
  {
   "cell_type": "code",
   "execution_count": 20,
   "metadata": {},
   "outputs": [
    {
     "output_type": "execute_result",
     "data": {
      "text/plain": "True"
     },
     "metadata": {},
     "execution_count": 20
    }
   ],
   "source": [
    "# find out if the word \"dog\" is in a string\n",
    "def dog_check(s):\n",
    "    return \"dog\" in s.lower()\n",
    "\n",
    "dog_check('My Dog ran away')"
   ]
  },
  {
   "cell_type": "code",
   "execution_count": 24,
   "metadata": {},
   "outputs": [
    {
     "output_type": "stream",
     "name": "stdout",
     "text": "histay awesomeay entencesay illway ebay ranslatedtay otay aay iglatinpay asperinay \n"
    }
   ],
   "source": [
    "def pig_latin(word):\n",
    "    if word == '': return\n",
    "    word = word.lower()\n",
    "\n",
    "    #if word[0] in ['a','e','i','o','u']:\n",
    "    if word[0] in 'aeiou':\n",
    "        return word+\"ay\"\n",
    "    else:\n",
    "        return word[1:] + word[0]+ \"ay\"\n",
    "\n",
    "for word in \"This awesome sentence will be translated to a Piglatin asperin\".split():\n",
    "    print(pig_latin(word), end=\" \")\n",
    "\n",
    "print(\"\")"
   ]
  },
  {
   "cell_type": "markdown",
   "metadata": {},
   "source": [
    "# *args and **kwargs"
   ]
  },
  {
   "cell_type": "code",
   "execution_count": 27,
   "metadata": {},
   "outputs": [
    {
     "output_type": "execute_result",
     "data": {
      "text/plain": "5.0"
     },
     "metadata": {},
     "execution_count": 27
    }
   ],
   "source": [
    "def myfunc(a,b,c=0,d=0,e=0):\n",
    "    ''' Returns 5% of the sum of a and b '''\n",
    "    return sum((a,b)) * 0.05\n",
    "\n",
    "myfunc(40,60)"
   ]
  },
  {
   "cell_type": "code",
   "execution_count": 32,
   "metadata": {},
   "outputs": [
    {
     "output_type": "stream",
     "name": "stdout",
     "text": "myfunc(4, 5, 6, 3, 0)\n"
    },
    {
     "output_type": "execute_result",
     "data": {
      "text/plain": "0.9"
     },
     "metadata": {},
     "execution_count": 32
    }
   ],
   "source": [
    "def myfunc(*args):\n",
    "    print(f\"myfunc{args}\")\n",
    "    return sum(args) *0.05\n",
    "\n",
    "myfunc(4,5,6,3,0)"
   ]
  },
  {
   "cell_type": "code",
   "execution_count": 40,
   "metadata": {},
   "outputs": [
    {
     "output_type": "stream",
     "name": "stdout",
     "text": "{'fruits': 'apple', 'sweet': 'chocolate', 'colour': 'blue'}\nThis isn't what I like:\nfruits is apple\nsweet is chocolate\ncolour is blue\n"
    }
   ],
   "source": [
    "def myfunc(**kwargs):\n",
    "    print(kwargs)\n",
    "    if 'fruit' in kwargs:\n",
    "        print(f'My fruit of choise is {kwargs[\"fruit\"]}')\n",
    "    elif 'color' in kwargs: print(f\"I didn't find any fruit, but I like it {kwargs['color']}\")\n",
    "    else:\n",
    "        print(\"This isn't what I like:\")\n",
    "        for k,v in kwargs.items():\n",
    "            print(f\"{k} is {v}\")\n",
    "\n",
    "myfunc(fruits='apple', sweet='chocolate', colour='blue')"
   ]
  },
  {
   "cell_type": "code",
   "execution_count": 49,
   "metadata": {},
   "outputs": [
    {
     "output_type": "stream",
     "name": "stdout",
     "text": "I would like 10 eggs\n"
    }
   ],
   "source": [
    "def myfunc(*args, **kwargs):\n",
    "    print(f'I would like {args[0]} {kwargs[\"food\"]}')\n",
    "\n",
    "myfunc(10,20,30,fruit='orange',food='eggs',animal='dog')"
   ]
  },
  {
   "cell_type": "code",
   "execution_count": 54,
   "metadata": {},
   "outputs": [
    {
     "output_type": "stream",
     "name": "stdout",
     "text": "aLl iS GoOd\n"
    }
   ],
   "source": [
    "def myfunc(s):\n",
    "    result = \"\"\n",
    "    for i,c in enumerate(s):\n",
    "        if i%2==1 : result += c.upper()\n",
    "        else : result += c.lower()\n",
    "    return result\n",
    "\n",
    "print(myfunc(\"All is good\"))"
   ]
  },
  {
   "cell_type": "code",
   "execution_count": 1,
   "metadata": {},
   "outputs": [
    {
     "output_type": "stream",
     "name": "stdout",
     "text": "1\n4\n9\n16\n25\n"
    }
   ],
   "source": [
    "def square(num):\n",
    "    return num**2\n",
    "\n",
    "my_nums = [1,2,3,4,5]\n",
    "for i in map(square,my_nums):\n",
    "    print(i)\n"
   ]
  },
  {
   "cell_type": "code",
   "execution_count": 2,
   "metadata": {},
   "outputs": [
    {
     "output_type": "execute_result",
     "data": {
      "text/plain": "[1, 4, 9, 16, 25]"
     },
     "metadata": {},
     "execution_count": 2
    }
   ],
   "source": [
    "list(map(square,my_nums))"
   ]
  },
  {
   "cell_type": "code",
   "execution_count": 4,
   "metadata": {},
   "outputs": [
    {
     "output_type": "execute_result",
     "data": {
      "text/plain": "['EVEN', 'E', 'S', 'EVEN']"
     },
     "metadata": {},
     "execution_count": 4
    }
   ],
   "source": [
    "def splicer(s):\n",
    "    if len(s)%2 == 0:\n",
    "        return 'EVEN'\n",
    "    else:\n",
    "        return s[0]\n",
    "\n",
    "names = ['Andy','Eve','Sally','Bert']\n",
    "list(map(splicer,names))"
   ]
  },
  {
   "cell_type": "code",
   "execution_count": 6,
   "metadata": {},
   "outputs": [
    {
     "output_type": "execute_result",
     "data": {
      "text/plain": "[0, 2, 4, 6, 8, 10]"
     },
     "metadata": {},
     "execution_count": 6
    }
   ],
   "source": [
    "def check_even(n):\n",
    "    return n%2 == 0\n",
    "\n",
    "nums = [x for x in range(0,11)]\n",
    "list(filter(check_even, nums))"
   ]
  },
  {
   "cell_type": "code",
   "execution_count": 9,
   "metadata": {},
   "outputs": [],
   "source": [
    "lambda num:  num **2"
   ]
  },
  {
   "cell_type": "code",
   "execution_count": 11,
   "metadata": {},
   "outputs": [
    {
     "output_type": "execute_result",
     "data": {
      "text/plain": "25"
     },
     "metadata": {},
     "execution_count": 11
    }
   ],
   "source": [
    "square(5)"
   ]
  },
  {
   "cell_type": "code",
   "execution_count": 12,
   "metadata": {},
   "outputs": [
    {
     "output_type": "execute_result",
     "data": {
      "text/plain": "[0, 1, 4, 9, 16, 25, 36, 49, 64, 81, 100]"
     },
     "metadata": {},
     "execution_count": 12
    }
   ],
   "source": [
    "list(map(lambda num:num**2, nums))"
   ]
  },
  {
   "cell_type": "code",
   "execution_count": 13,
   "metadata": {},
   "outputs": [
    {
     "output_type": "execute_result",
     "data": {
      "text/plain": "[0, 2, 4, 6, 8, 10]"
     },
     "metadata": {},
     "execution_count": 13
    }
   ],
   "source": [
    "list(filter(lambda num:num%2==0,nums))"
   ]
  },
  {
   "cell_type": "code",
   "execution_count": 17,
   "metadata": {},
   "outputs": [
    {
     "output_type": "execute_result",
     "data": {
      "text/plain": "['ydnA', 'evE', 'yllaS', 'treB']"
     },
     "metadata": {},
     "execution_count": 17
    }
   ],
   "source": [
    "list(map(lambda name:name[::-1],names))"
   ]
  },
  {
   "cell_type": "code",
   "execution_count": 31,
   "metadata": {},
   "outputs": [
    {
     "output_type": "error",
     "ename": "TypeError",
     "evalue": "<lambda>() missing 1 required positional argument: 'y'",
     "traceback": [
      "\u001b[0;31m---------------------------------------------------------------------------\u001b[0m",
      "\u001b[0;31mTypeError\u001b[0m                                 Traceback (most recent call last)",
      "\u001b[0;32m<ipython-input-31-03a0813f0fac>\u001b[0m in \u001b[0;36m<module>\u001b[0;34m\u001b[0m\n\u001b[1;32m      3\u001b[0m \u001b[0mys\u001b[0m \u001b[0;34m=\u001b[0m \u001b[0;34m[\u001b[0m \u001b[0mi\u001b[0m\u001b[0;34m*\u001b[0m\u001b[0;36m10\u001b[0m \u001b[0;32mfor\u001b[0m \u001b[0mi\u001b[0m \u001b[0;32min\u001b[0m \u001b[0mrange\u001b[0m\u001b[0;34m(\u001b[0m\u001b[0;36m1\u001b[0m\u001b[0;34m,\u001b[0m\u001b[0;36m6\u001b[0m\u001b[0;34m)\u001b[0m \u001b[0;34m]\u001b[0m\u001b[0;34m\u001b[0m\u001b[0;34m\u001b[0m\u001b[0m\n\u001b[1;32m      4\u001b[0m \u001b[0mzs\u001b[0m \u001b[0;34m=\u001b[0m \u001b[0mzip\u001b[0m\u001b[0;34m(\u001b[0m\u001b[0mxs\u001b[0m\u001b[0;34m,\u001b[0m \u001b[0mys\u001b[0m\u001b[0;34m)\u001b[0m\u001b[0;34m\u001b[0m\u001b[0;34m\u001b[0m\u001b[0m\n\u001b[0;32m----> 5\u001b[0;31m \u001b[0mlist\u001b[0m\u001b[0;34m(\u001b[0m\u001b[0mmap\u001b[0m\u001b[0;34m(\u001b[0m\u001b[0;32mlambda\u001b[0m \u001b[0mx\u001b[0m\u001b[0;34m,\u001b[0m\u001b[0my\u001b[0m\u001b[0;34m:\u001b[0m \u001b[0mx\u001b[0m\u001b[0;34m+\u001b[0m\u001b[0my\u001b[0m\u001b[0;34m,\u001b[0m \u001b[0mzs\u001b[0m\u001b[0;34m)\u001b[0m\u001b[0;34m)\u001b[0m\u001b[0;34m\u001b[0m\u001b[0;34m\u001b[0m\u001b[0m\n\u001b[0m",
      "\u001b[0;31mTypeError\u001b[0m: <lambda>() missing 1 required positional argument: 'y'"
     ]
    }
   ],
   "source": [
    "#list(map(lambda x,y: f\"{x:>2}: {y}\",))\n",
    "xs = range(1,6)\n",
    "ys = [ i*10 for i in range(1,6) ]\n",
    "zs = zip(xs, ys)\n",
    "list(map(lambda x,y: x+y, zs))"
   ]
  },
  {
   "cell_type": "code",
   "execution_count": null,
   "metadata": {},
   "outputs": [],
   "source": []
  },
  {
   "cell_type": "code",
   "execution_count": null,
   "metadata": {},
   "outputs": [],
   "source": []
  }
 ],
 "metadata": {
  "language_info": {
   "codemirror_mode": {
    "name": "ipython",
    "version": 3
   },
   "file_extension": ".py",
   "mimetype": "text/x-python",
   "name": "python",
   "nbconvert_exporter": "python",
   "pygments_lexer": "ipython3",
   "version": "3.7.6-final"
  },
  "orig_nbformat": 2,
  "kernelspec": {
   "name": "python3",
   "display_name": "Python 3"
  }
 },
 "nbformat": 4,
 "nbformat_minor": 2
}