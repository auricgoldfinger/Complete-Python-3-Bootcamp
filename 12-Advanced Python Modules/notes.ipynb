{
 "cells": [
  {
   "cell_type": "code",
   "execution_count": 5,
   "metadata": {},
   "outputs": [
    {
     "output_type": "execute_result",
     "data": {
      "text/plain": "defaultdict(<function __main__.<lambda>()>, {'correct': 'ok', 'wrong': 0})"
     },
     "metadata": {},
     "execution_count": 5
    }
   ],
   "source": [
    "from collections import defaultdict\n",
    "d = defaultdict(lambda:0)\n",
    "d['correct'] = 'ok'\n",
    "d['wrong']\n",
    "d"
   ]
  },
  {
   "cell_type": "code",
   "execution_count": 7,
   "metadata": {},
   "outputs": [],
   "source": [
    "from collections import namedtuple\n",
    "A = namedtuple('Dog',['age','breed','name'])\n",
    "\n",
    "sam = A(age=2,breed='Lab',name='Sammy')\n",
    "\n",
    "frank = A(age=2,breed='Shepard',name=\"Frankie\")"
   ]
  },
  {
   "cell_type": "code",
   "execution_count": 8,
   "metadata": {},
   "outputs": [
    {
     "output_type": "execute_result",
     "data": {
      "text/plain": "Dog(age=2, breed='Lab', name='Sammy')"
     },
     "metadata": {},
     "execution_count": 8
    }
   ],
   "source": [
    "sam"
   ]
  },
  {
   "cell_type": "code",
   "execution_count": 11,
   "metadata": {},
   "outputs": [
    {
     "output_type": "execute_result",
     "data": {
      "text/plain": "'Lab'"
     },
     "metadata": {},
     "execution_count": 11
    }
   ],
   "source": [
    "sam[1]"
   ]
  },
  {
   "cell_type": "markdown",
   "metadata": {},
   "source": [
    "# Reading files/ os "
   ]
  },
  {
   "cell_type": "code",
   "execution_count": 13,
   "metadata": {},
   "outputs": [
    {
     "output_type": "execute_result",
     "data": {
      "text/plain": "'c:\\\\Developer\\\\personal\\\\python\\\\Complete-Python-3-Bootcamp\\\\12-Advanced Python Modules'"
     },
     "metadata": {},
     "execution_count": 13
    }
   ],
   "source": [
    "pwd"
   ]
  },
  {
   "cell_type": "code",
   "execution_count": 17,
   "metadata": {},
   "outputs": [],
   "source": [
    "f = open('practice.txt','w+')\n",
    "f.write('this is a test')\n",
    "f.close()"
   ]
  },
  {
   "cell_type": "code",
   "execution_count": 20,
   "metadata": {},
   "outputs": [
    {
     "output_type": "execute_result",
     "data": {
      "text/plain": "'c:\\\\Developer\\\\personal\\\\python\\\\Complete-Python-3-Bootcamp\\\\12-Advanced Python Modules'"
     },
     "metadata": {},
     "execution_count": 20
    }
   ],
   "source": [
    "import os\n",
    "os.getcwd()"
   ]
  },
  {
   "cell_type": "code",
   "execution_count": 21,
   "metadata": {},
   "outputs": [
    {
     "output_type": "execute_result",
     "data": {
      "text/plain": "['.ipynb_checkpoints',\n '00-Collections-Module.ipynb',\n '01-Opening-and-Reading-Files-Folders.ipynb',\n '02-Datetime-Module.ipynb',\n '03-Math-and-Random-Module.ipynb',\n '04-Python Debugger (pdb).ipynb',\n '05-Overview-of-Regular-Expressions.ipynb',\n '06-Timing your code - timeit.ipynb',\n '07-Unzipping-and-Zipping-Files.ipynb',\n '08-Advanced-Python-Module-Exercise',\n 'Example_Top_Level',\n 'notes.ipynb',\n 'practice.txt']"
     },
     "metadata": {},
     "execution_count": 21
    }
   ],
   "source": [
    "os.listdir()"
   ]
  },
  {
   "cell_type": "code",
   "execution_count": 22,
   "metadata": {},
   "outputs": [],
   "source": [
    " import shutil\n",
    " "
   ]
  },
  {
   "cell_type": "code",
   "execution_count": 23,
   "metadata": {},
   "outputs": [
    {
     "output_type": "execute_result",
     "data": {
      "text/plain": "'c:\\\\tmp\\\\practice.txt'"
     },
     "metadata": {},
     "execution_count": 23
    }
   ],
   "source": [
    "shutil.move('practice.txt','c:\\\\tmp\\\\')"
   ]
  },
  {
   "cell_type": "code",
   "execution_count": 24,
   "metadata": {},
   "outputs": [
    {
     "output_type": "execute_result",
     "data": {
      "text/plain": "['8TJL18-KJ468Z.zip',\n 'base64',\n 'crash20200504.evtx',\n 'Dataload errors.zip',\n 'defensieaanlevering',\n 'jasperdata.xml',\n 'junit',\n 'launchers',\n 'LocaleMetaData',\n 'missing_contract_info.txt',\n 'missing_relief_car_info.txt',\n 'poifiles',\n 'practice.txt',\n 'rejected',\n 'rejected.zip',\n 'replcar.txt',\n 'rmpwd',\n 'sd',\n 'sendClaim_10_2090.7z',\n 'sendClaim_10_2090.xml',\n 'sendClaim_4_2507.xml',\n 'sendClaim_5_622.xml',\n 'sendClaim_6_877.xml',\n 'tmp.sql',\n 'utf8']"
     },
     "metadata": {},
     "execution_count": 24
    }
   ],
   "source": [
    "os.listdir('c:/tmp')"
   ]
  },
  {
   "cell_type": "code",
   "execution_count": 25,
   "metadata": {},
   "outputs": [
    {
     "output_type": "execute_result",
     "data": {
      "text/plain": "'c:\\\\Developer\\\\personal\\\\python\\\\Complete-Python-3-Bootcamp\\\\12-Advanced Python Modules\\\\practice.txt'"
     },
     "metadata": {},
     "execution_count": 25
    }
   ],
   "source": [
    "import send2trash\n",
    "shutil.move('c:/tmp/practice.txt', os.getcwd())"
   ]
  },
  {
   "cell_type": "code",
   "execution_count": 26,
   "metadata": {},
   "outputs": [
    {
     "output_type": "execute_result",
     "data": {
      "text/plain": "['.ipynb_checkpoints',\n '00-Collections-Module.ipynb',\n '01-Opening-and-Reading-Files-Folders.ipynb',\n '02-Datetime-Module.ipynb',\n '03-Math-and-Random-Module.ipynb',\n '04-Python Debugger (pdb).ipynb',\n '05-Overview-of-Regular-Expressions.ipynb',\n '06-Timing your code - timeit.ipynb',\n '07-Unzipping-and-Zipping-Files.ipynb',\n '08-Advanced-Python-Module-Exercise',\n 'Example_Top_Level',\n 'notes.ipynb',\n 'practice.txt']"
     },
     "metadata": {},
     "execution_count": 26
    }
   ],
   "source": [
    "os.listdir()"
   ]
  },
  {
   "cell_type": "code",
   "execution_count": 27,
   "metadata": {},
   "outputs": [],
   "source": [
    "send2trash.send2trash('practice.txt')"
   ]
  },
  {
   "cell_type": "code",
   "execution_count": 38,
   "metadata": {
    "tags": []
   },
   "outputs": [
    {
     "output_type": "stream",
     "name": "stdout",
     "text": "\n. contains:\n\t> .ipynb_checkpoints\n\t> 08-Advanced-Python-Module-Exercise\n\t> Example_Top_Level\n\t  00-Collections-Module.ipynb\n\t  01-Opening-and-Reading-Files-Folders.ipynb\n\t  02-Datetime-Module.ipynb\n\t  03-Math-and-Random-Module.ipynb\n\t  04-Python Debugger (pdb).ipynb\n\t  05-Overview-of-Regular-Expressions.ipynb\n\t  06-Timing your code - timeit.ipynb\n\t  07-Unzipping-and-Zipping-Files.ipynb\n\t  notes.ipynb\n\n\n\n.\\.ipynb_checkpoints contains:\n\t  00-Collections-Module-checkpoint.ipynb\n\t  01-Datetime-Module-checkpoint.ipynb\n\t  01-Opening-and-Reading-Files-Folders-checkpoint.ipynb\n\t  02-Datetime-Module-checkpoint.ipynb\n\t  02-Math-and-Random-Module-checkpoint.ipynb\n\t  03-Math-and-Random-Module-checkpoint.ipynb\n\t  03-Python Debugger (pdb)-checkpoint.ipynb\n\t  04-Python Debugger (pdb)-checkpoint.ipynb\n\t  04-Timing your code - timeit-checkpoint.ipynb\n\t  05-Overview-of-Regular-Expressions-checkpoint.ipynb\n\t  06-Timing your code - timeit-checkpoint.ipynb\n\t  06-Unzipping-and-Zipping-Files-checkpoint.ipynb\n\t  07-OS-Module-checkpoint.ipynb\n\t  07-Unzipping-and-Zipping-Files-checkpoint.ipynb\n\t  09-Advanced-Modules-Exercise-Solutions-checkpoint.ipynb\n\n\n\n.\\08-Advanced-Python-Module-Exercise contains:\n\t> .ipynb_checkpoints\n\t> extracted_content\n\t  07-Advanced-Modules-Exercise-Puzzle.ipynb\n\t  08-Advanced-Modules-Exercise-Solutions.ipynb\n\t  unzip_me_for_instructions.zip\n\n\n\n.\\08-Advanced-Python-Module-Exercise\\.ipynb_checkpoints contains:\n\t  07-Advanced-Modules-Exercise-Puzzle-checkpoint.ipynb\n\t  08-Advanced-Modules-Exercise-Solutions-checkpoint.ipynb\n\n\n\n.\\08-Advanced-Python-Module-Exercise\\extracted_content contains:\n\t> Five\n\t> Four\n\t> One\n\t> Three\n\t> Two\n\t  Instructions.txt\n\n\n\n.\\08-Advanced-Python-Module-Exercise\\extracted_content\\Five contains:\n\t  AEITMYIRQLP.txt\n\t  APJKSRITGGX.txt\n\t  AQKATDFGXTS.txt\n\t  ARLKFCWIAJE.txt\n\t  AXJGVPVEFAS.txt\n\t  BNUQEHCFRTG.txt\n\t  BSKJDRNEZQM.txt\n\t  BTYWAHLHKBM.txt\n\t  BUGKBZWRRVI.txt\n\t  BVBURZZCAPR.txt\n\t  CAHBEVSVDDN.txt\n\t  COMGMZBJAYE.txt\n\t  CRFSDGYFSHA.txt\n\t  CSCLFZCDYYC.txt\n\t  CXBVCTRBBIE.txt\n\t  DDLASODUVPX.txt\n\t  DHZBAAYEADM.txt\n\t  DQPZQLBCJYP.txt\n\t  DYOPIIVMZOO.txt\n\t  DZUWWXYIAEL.txt\n\t  EAAOEPSAWMQ.txt\n\t  EIPWXMQZJKU.txt\n\t  ESIZWBHMGDP.txt\n\t  ETCUEXWNBCF.txt\n\t  EYTCGIOYWIW.txt\n\n\n\n.\\08-Advanced-Python-Module-Exercise\\extracted_content\\Four contains:\n\t  ECIOBYCDVFI.txt\n\t  EMTGPSXQEJX.txt\n\t  EPRNUHRSESC.txt\n\t  ESDIZXHYCVY.txt\n\t  EXVQSVBQQQH.txt\n\t  QCTCKDIBBVG.txt\n\t  QCWCFLKNZMN.txt\n\t  QDDETWBHJYC.txt\n\t  QTDYYIFPHAU.txt\n\t  QVNJULGXNUM.txt\n\t  REAXWSOIQDY.txt\n\t  ROICPTWKXDX.txt\n\t  RSXOTNGKBML.txt\n\t  RXDARIDGKBF.txt\n\t  RYNXFYXMKHG.txt\n\t  TAKNAVDMZKV.txt\n\t  THPNEGKTJWI.txt\n\t  TJFMLJODVAD.txt\n\t  TKCZSFQNJTX.txt\n\t  TWUOYFCCYBQ.txt\n\t  WFSKPTXPFCH.txt\n\t  WHTOHQUWXIN.txt\n\t  WNJISWPEBRS.txt\n\t  WXDJDOGZEHN.txt\n\t  WYDLGSGGXKV.txt\n\n\n\n.\\08-Advanced-Python-Module-Exercise\\extracted_content\\One contains:\n\t  HDOHZHFSTTK.txt\n\t  HFUTPPAXDIS.txt\n\t  HMNZTLIFGPD.txt\n\t  HRQFTHKVJTL.txt\n\t  HVUTZEVMSBW.txt\n\t  JDLRVFCXYLU.txt\n\t  JEHBLZPUPSP.txt\n\t  JLTXKIGCWDL.txt\n\t  JQUOBKFUACN.txt\n\t  JTHSNBNPQSE.txt\n\t  KCXGNQCZBLO.txt\n\t  KFIUZFERLET.txt\n\t  KMMLGJOWLGI.txt\n\t  KNBSKDREHQU.txt\n\t  KTXDHIOKAUI.txt\n\t  LDGOCUQJNNS.txt\n\t  LFEATJAAYDC.txt\n\t  LHODFIKVTQA.txt\n\t  LIFDHOFKWOI.txt\n\t  LPNDVDXPZIG.txt\n\t  PDJMSMNKIRM.txt\n\t  PHWAVPEKAER.txt\n\t  PLYCGPVEAWO.txt\n\t  PQNVCVJINAR.txt\n\t  PTOBBCJYURJ.txt\n\n\n\n.\\08-Advanced-Python-Module-Exercise\\extracted_content\\Three contains:\n\t  VAQIJTDOFUJ.txt\n\t  VCFJCGJFBIH.txt\n\t  VSXFSTABZDY.txt\n\t  VVHFVZUNLOO.txt\n\t  VVKGWLRMHLU.txt\n\t  XAJMCPEWFNI.txt\n\t  XFHJOTNPEJG.txt\n\t  XHZPVUQTXIO.txt\n\t  XJCWENFFGHB.txt\n\t  XVMPVSVYKFR.txt\n\t  YCESZHJDBXH.txt\n\t  YDQFMWXOUMW.txt\n\t  YQBIUHSUEVW.txt\n\t  YQRNCMNFFHW.txt\n\t  YYIZGBTQHZP.txt\n\t  ZEZKKRBIZEB.txt\n\t  ZKQJXAYKPVD.txt\n\t  ZOWVXWPOGWP.txt\n\t  ZXEZRQXZNPG.txt\n\t  ZXIBJMPROKW.txt\n\n\n\n.\\08-Advanced-Python-Module-Exercise\\extracted_content\\Two contains:\n\t  GKQBQRCTNNK.txt\n\t  GMMQQUBMJNR.txt\n\t  GQTJJORZBXY.txt\n\t  GTOTCIWMDBY.txt\n\t  GXYSEPAFRTP.txt\n\t  HARDNJGDRBC.txt\n\t  HEORIXOTANT.txt\n\t  HMUTDOVNYTV.txt\n\t  HMZXPBOPRAE.txt\n\t  HTOHSTYXTCO.txt\n\t  LCJZYDHBFRM.txt\n\t  LSQSTGPIGIY.txt\n\t  LULTNYAQEJG.txt\n\t  LVMBINRBJXL.txt\n\t  LYZEQCVYNEZ.txt\n\t  OHZOUOSFJQC.txt\n\t  OIHMLGMWTHL.txt\n\t  OKWFOOYTXFU.txt\n\t  OMWIMVRCMYM.txt\n\t  OYMAGXAGWHJ.txt\n\t  SIKFPPLCJDN.txt\n\t  SJMJLDGPBSJ.txt\n\t  SOFUJYXTIMK.txt\n\t  SPDZYGDHEWO.txt\n\t  SWOFXREEHWA.txt\n\n\n\n.\\Example_Top_Level contains:\n\t> Mid-Example-One\n\t  Mid-Example.txt\n\n\n\n.\\Example_Top_Level\\Mid-Example-One contains:\n\t> Bottom-Level-One\n\t> Bottom-Level-Two\n\t  Mid-Level-Doc.txt\n\n\n\n.\\Example_Top_Level\\Mid-Example-One\\Bottom-Level-One contains:\n\t  One_Text.txt\n\n\n\n.\\Example_Top_Level\\Mid-Example-One\\Bottom-Level-Two contains:\n\t  Bottom-Text-Two.txt\n\n\n"
    }
   ],
   "source": [
    "for folder, subfolder, files in os.walk('.'):\n",
    "    print (f\"\\n{folder} contains:\")\n",
    "    for sub in subfolder:\n",
    "        print(f\"\\t> {sub}\")\n",
    "    for f in files:\n",
    "        print(f\"\\t  {f}\")\n",
    "    print('\\n')\n"
   ]
  },
  {
   "cell_type": "code",
   "execution_count": null,
   "metadata": {},
   "outputs": [],
   "source": []
  }
 ],
 "metadata": {
  "language_info": {
   "codemirror_mode": {
    "name": "ipython",
    "version": 3
   },
   "file_extension": ".py",
   "mimetype": "text/x-python",
   "name": "python",
   "nbconvert_exporter": "python",
   "pygments_lexer": "ipython3",
   "version": "3.8.2-final"
  },
  "orig_nbformat": 2,
  "kernelspec": {
   "name": "python38264bit22d824d193784b35b2e1b126240d791d",
   "display_name": "Python 3.8.2 64-bit"
  }
 },
 "nbformat": 4,
 "nbformat_minor": 2
}